{
  "cells": [
    {
      "cell_type": "markdown",
      "metadata": {
        "id": "3xckVNiz8Ue-"
      },
      "source": [
        "## Upload the data\n",
        "If the dataset is uploaded with the name \"archive.zip\" we will unzip it to the folder /content/dataset. Than we perform some commands to store it in the correct format described in the preperation.md"
      ]
    },
    {
      "cell_type": "code",
      "execution_count": null,
      "metadata": {
        "id": "BOQNjutQ4Cgq"
      },
      "outputs": [],
      "source": [
        "# Unzip the archive to a folder called dataset\n",
        "# Path: /content/dataset\n",
        "UPLOADED_FILE_NAME = \"archive.zip\"\n",
        "!unzip \"$UPLOADED_FILE_NAME\" -d \"dataset\""
      ]
    },
    {
      "cell_type": "code",
      "execution_count": 4,
      "metadata": {
        "id": "Y765Ivbx9buF"
      },
      "outputs": [],
      "source": [
        "# Move the subdirectory out of it\n",
        "!mv \"/content/dataset/xray_dataset_covid19\" \"/content/\""
      ]
    },
    {
      "cell_type": "code",
      "execution_count": 5,
      "metadata": {
        "id": "wdWpoyE89l3S"
      },
      "outputs": [],
      "source": [
        "# Delete the old folder\n",
        "!rm -r \"/content/dataset\""
      ]
    },
    {
      "cell_type": "code",
      "execution_count": 6,
      "metadata": {
        "id": "lbUBblBx9t9a"
      },
      "outputs": [],
      "source": [
        "# Move the subfolder to the folder called /content/dataset\n",
        "!mv \"/content/xray_dataset_covid19\" \"/content/dataset\""
      ]
    },
    {
      "cell_type": "markdown",
      "metadata": {
        "id": "p5EP0cZplQgm"
      },
      "source": [
        "⚠ Important: It could be possible that you must refresh the file tab after each command in this step to see the refresh."
      ]
    },
    {
      "cell_type": "markdown",
      "metadata": {
        "id": "TzDebjZn-l0b"
      },
      "source": [
        "# Install dependencies"
      ]
    },
    {
      "cell_type": "code",
      "execution_count": null,
      "metadata": {
        "id": "_bFhLpwi-qBN"
      },
      "outputs": [],
      "source": [
        "# Install numpy a python package for better array, vector and matrix handling\n",
        "!pip install numpy"
      ]
    },
    {
      "cell_type": "code",
      "execution_count": null,
      "metadata": {
        "id": "2cL_riG1AO1R"
      },
      "outputs": [],
      "source": [
        "# Install opencv - A package to handle all image related stuff like resizing, loading etc.\n",
        "!pip install opencv-python"
      ]
    },
    {
      "cell_type": "code",
      "execution_count": null,
      "metadata": {
        "id": "VGkYn6dyiw4O"
      },
      "outputs": [],
      "source": [
        "# Install tensorflow - A package to handle the ML stuff\n",
        "!pip install tensorflow"
      ]
    },
    {
      "cell_type": "code",
      "execution_count": null,
      "metadata": {
        "id": "UKhUlRlBjYHS"
      },
      "outputs": [],
      "source": [
        "# Install keras - A high level ML API\n",
        "!pip install keras"
      ]
    },
    {
      "cell_type": "markdown",
      "metadata": {
        "id": "5znSWpI3ZOU7"
      },
      "source": [
        "#### Import needed dependencies"
      ]
    },
    {
      "cell_type": "code",
      "execution_count": 11,
      "metadata": {
        "id": "M5OvvHBLY-L9"
      },
      "outputs": [],
      "source": [
        "# Import the dependencies\n",
        "import cv2\n",
        "import numpy as np\n",
        "import tensorflow as tf\n",
        "from tensorflow import keras\n",
        "\n",
        "# Import needed native python packages\n",
        "import os"
      ]
    }
  ],
  "metadata": {
    "colab": {
      "collapsed_sections": [],
      "name": "PneunomiaClassifier.ipynb",
      "provenance": []
    },
    "kernelspec": {
      "display_name": "Python 3",
      "name": "python3"
    },
    "language_info": {
      "name": "python"
    }
  },
  "nbformat": 4,
  "nbformat_minor": 0
}
